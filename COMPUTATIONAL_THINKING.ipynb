{
  "nbformat": 4,
  "nbformat_minor": 0,
  "metadata": {
    "colab": {
      "name": "COMPUTATIONAL THINKING.ipynb",
      "provenance": [],
      "authorship_tag": "ABX9TyOv8ygaGhkquSP91XnuUXtY",
      "include_colab_link": true
    },
    "kernelspec": {
      "name": "python3",
      "display_name": "Python 3"
    }
  },
  "cells": [
    {
      "cell_type": "markdown",
      "metadata": {
        "id": "view-in-github",
        "colab_type": "text"
      },
      "source": [
        "<a href=\"https://colab.research.google.com/github/Long-1234kfgkl/CS519.L11/blob/main/COMPUTATIONAL_THINKING.ipynb\" target=\"_parent\"><img src=\"https://colab.research.google.com/assets/colab-badge.svg\" alt=\"Open In Colab\"/></a>"
      ]
    },
    {
      "cell_type": "markdown",
      "metadata": {
        "id": "ir7BXx_C41sx"
      },
      "source": [
        "**Nhóm N015:**\n",
        "\n",
        "-Lỡ Đình Phương 18521274\n",
        "\n",
        "-Đoàn Xuân Minh 18521093\n",
        "\n",
        "-Trịnh Hưng Long 18521060"
      ]
    },
    {
      "cell_type": "markdown",
      "metadata": {
        "id": "WavP5gdv5PwN"
      },
      "source": [
        "**COMPUTATIONAL THINKING (TƯ DUY MÁY TÍNH)**\n",
        "\n",
        "Problem-Solving Skill là một trong các kỹ năng quan trọng rất cần trong công việc hàng ngày.\n",
        "\n",
        "Với người học IT, cần phải tư duy cách giải quyết vấn đề sao cho có thể dùng máy tính để giải quyết. \n",
        "\n",
        "Hãy tham khảo các tài liệu sau và trình bày lại những gì mà bạn hiểu về Computational Thinking - đồng thời minh hoạ một tình huống áp dụng Computational Thinking trong giải quyết một vấn đề nào đó."
      ]
    },
    {
      "cell_type": "markdown",
      "metadata": {
        "id": "zKLvl0Js43bT"
      },
      "source": [
        "**Tư duy máy tính (Computational Thinking - CT):** là một tập hợp các phương pháp giải quyết vấn đề liên quan đến việc diễn đạt các vấn đề và giải pháp của chúng theo cách mà một máy tính cũng có thể thực hiện\n",
        "\n",
        "Ở thế kỷ 21, chúng ta có khái niệm 4C: communication (giao tiếp), critical thinking (tư duy phản biện), collaboration (hợp tác) và creativity (sáng tạo), chữ C thứ 5 có thể là computational thinking (tư duy tính toán) đòi hỏi khả năng giải quyết các vấn đề theo thuật toán và logic. Nó bao gồm các công cụ sản xuất mô hình và trực quan hóa dữ liệu, tư duy tính toán không chỉ áp dụng trong các lĩnh vực khoa học tự nhiên, công nghệ, kỹ thuật mà còn áp dụng cho cả các lĩnh vực khoa học xã hội và ngôn ngữ.\n",
        "Tư duy máy tính gồm có 4 bước: \n",
        "1. Decompose: chia nhỏ vấn đề lớn thành nhiều vấn đề đơn giản hơn nhiều\n",
        "2. Patterns: Khi một vấn đề có nhiều phần nhỏ, chú ý rằng những phần nhỏ đó có những phần đã biết, nếu không, thì chúng có thể có ít nhất một vài nét tương đồng với những phần nhỏ của những vấn đề khác đã được giải quyết trước đó\n",
        "3. Abstraction: tập trung vào những chi tiết quan trọng, bỏ qua những chi tiết không cần thiết\n",
        "4. Algorithms: Khi đã có giải pháp, trình bày giải pháp đó sao cho nó có thể được thực hiện theo từng bước, để có thể dễ dàng đạt được kết quả mong muốn\n",
        "\n",
        "Ví dụ: Mua một mặt hàng online\n",
        "  1. Nhu cầu mặt hàng muốn mua, cách thức lấy hàng, cách thức thanh toán, mức độ tin cậy của sản phẩm và của nhà sản xuất cũng như nhà phân phối.\n",
        "  2. Pattern: Dựa vào các kinh nghiệm đã có trong việc mua hàng để nhận biết các sản phẩm chất lượng.\n",
        "  3. Abstraction: Tìm các sản phẩm của các nhà sản xuất uy tín về mặt hàng đó.\n",
        "  4. Algorithms: Tìm kiếm theo mức độ ưu tiên của bản thân như: tìm mặt hàng cần mua -> tìm kiếm nhà sản xuất, nhà phân phối chất lượng -> mua sản phẩm dựa trên tiêu chí giá cả, cách thức thanh toán."
      ]
    }
  ]
}