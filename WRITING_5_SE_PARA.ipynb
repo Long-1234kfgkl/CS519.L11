{
  "nbformat": 4,
  "nbformat_minor": 0,
  "metadata": {
    "colab": {
      "name": "WRITING-5_SE_PARA.ipynb",
      "provenance": [],
      "authorship_tag": "ABX9TyO30FXd2u/c5NoK28n+iPB6",
      "include_colab_link": true
    },
    "kernelspec": {
      "name": "python3",
      "display_name": "Python 3"
    }
  },
  "cells": [
    {
      "cell_type": "markdown",
      "metadata": {
        "id": "view-in-github",
        "colab_type": "text"
      },
      "source": [
        "<a href=\"https://colab.research.google.com/github/Long-1234kfgkl/CS519.L11/blob/main/WRITING_5_SE_PARA.ipynb\" target=\"_parent\"><img src=\"https://colab.research.google.com/assets/colab-badge.svg\" alt=\"Open In Colab\"/></a>"
      ]
    },
    {
      "cell_type": "markdown",
      "metadata": {
        "id": "vqGHdrCP31p9"
      },
      "source": [
        "**Nhóm N015:**\n",
        "\n",
        "-Lỡ Đình Phương 18521274\n",
        "\n",
        "-Đoàn Xuân Minh 18521093\n",
        "\n",
        "-Trịnh Hưng Long 18521060\n"
      ]
    },
    {
      "cell_type": "markdown",
      "metadata": {
        "id": "E8X0Pm6s4QD3"
      },
      "source": [
        "**WRITING - VIẾT 5-SENTENCE PARAGRAPH**\n",
        "\n",
        "Hãy tìm hiểu về kỹ thuật viết 5-sentence paragraph theo các gợi ý của link đính kèm.\n",
        "\n",
        "Hãy thử kết nối với 5W1H - kỹ thuật đặt câu hỏi với 5-sentence paragraph - kỹ thuật Writing\n"
      ]
    },
    {
      "cell_type": "markdown",
      "metadata": {
        "id": "HhVOmfv7347P"
      },
      "source": [
        "Chủ đề: **Rác thải nhựa**\n",
        "\n",
        "- What (Rác thải nhựa là gì?) \n",
        "Rác thải nhựa là cụm từ chỉ chung cho những sản phẩm làm từ nhựa đã qua sử dụng và bị vứt bỏ. \n",
        "- Where (Rác thải nhựa xuất hiện ở đâu?) Hiện nay, rác thải nhựa đang là vấn đề nhức nhối của tất cả các nước trên thế giới, rác thải nhựa xuất hiện không chỉ trên đất liền, mà cả ở trên biển, ảnh hưởng tới hệ sinh thái trên Trái Đất.\n",
        "-  Who (ai sử dụng các sản phẩm từ nhựa?) con người sử dụng nhựa trong rất nhiều sản phẩm tiêu dùng, đặc biệt là các sản phẩm làm từ nhựa dùng một lần, như ly, cốc, chén,...dùng một lần.\n",
        "- Why (vì sao sản phẩm từ nhựa lại được sử dụng phổ biến?)vì tính tiện lợi, đặc biệt là trong các sản phẩm thức ăn nhanh, các loại đồ uống,... phù hợp với cuộc sống hàng ngày nơi thành thị, dễ sản xuất với số lượng lớn, giá thành rẻ, dễ sử dụng,....\n",
        "- When (mất bao lâu rác thải nhựa mới được phân hủy?) Tuy nhiên, thời gian phân hủy có thể lên tới hàng trăm hàng nghìn năm, trong thời gian đó, nhựa gây ra nhiều hệ lụy với môi trường như gây ô nhiễm đất, nước, các hạt vi nhựa xuất hiện trong thức ăn gây nên các bệnh nguy hiểm như ung thư.\n",
        "- How (giải pháp nào cho vấn đề rác thải nhựa?) với những tác hại của nhựa như đã đề cập, chúng ta cần phải hạn chế sử dụng các sản phẩm làm từ nhựa, đặc biệt là nhựa dùng một lần, thay vào đó sử dụng những sản phẩm thân thiện với môi trường và có thể tái sử dụng hiều lần"
      ]
    }
  ]
}