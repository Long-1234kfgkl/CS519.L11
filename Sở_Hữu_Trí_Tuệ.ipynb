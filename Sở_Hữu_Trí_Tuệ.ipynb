{
  "nbformat": 4,
  "nbformat_minor": 0,
  "metadata": {
    "colab": {
      "name": "Sở Hữu Trí Tuệ.ipynb",
      "provenance": [],
      "authorship_tag": "ABX9TyM9jvUofCq13IKr58xujxg1",
      "include_colab_link": true
    },
    "kernelspec": {
      "name": "python3",
      "display_name": "Python 3"
    }
  },
  "cells": [
    {
      "cell_type": "markdown",
      "metadata": {
        "id": "view-in-github",
        "colab_type": "text"
      },
      "source": [
        "<a href=\"https://colab.research.google.com/github/Long-1234kfgkl/CS519.L11/blob/main/S%E1%BB%9F_H%E1%BB%AFu_Tr%C3%AD_Tu%E1%BB%87.ipynb\" target=\"_parent\"><img src=\"https://colab.research.google.com/assets/colab-badge.svg\" alt=\"Open In Colab\"/></a>"
      ]
    },
    {
      "cell_type": "markdown",
      "metadata": {
        "id": "dPebBIyA54Np"
      },
      "source": [
        "**Nhóm N015:**\n",
        "\n",
        "-Lỡ Đình Phương 18521274\n",
        "\n",
        "-Đoàn Xuân Minh 18521093\n",
        "\n",
        "-Trịnh Hưng Long 18521060"
      ]
    },
    {
      "cell_type": "markdown",
      "metadata": {
        "id": "la2kpTb16WeO"
      },
      "source": [
        "**QUYỀN SỞ HỮU TRÍ TUỆ VÀ KHAI THÁC QUYỀN SỞ HỮU TRÍ TUỆ TRONG LĨNH VỰC CÔNG NGHỆ THÔNG TIN**\n",
        "\n"
      ]
    },
    {
      "cell_type": "markdown",
      "metadata": {
        "id": "4ynljjsD6Qx5"
      },
      "source": [
        "BÁO CÁO TÓM TẮT BUỔI THUYẾT TRÌNH VỀ QUYỀN SỞ HỮU TRÍ TUỆ VÀ KHAI THÁC QUYỀN SỞ HỮU TRÍ TUỆ TRONG LĨNH VỰC CÔNG NGHỆ THÔNG TIN\n",
        "\n",
        "Các nội dung chính trong buổi Seminar\n",
        "\n",
        "I. Giới thiệu tổng quan về nội dung của quyền sở hữu trí tuệ trong lĩnh vực công nghệ thông tin\n",
        "\n",
        "1. Vai trò của tài sản trí tuệ trong một tổ chức\n",
        "\n",
        "     Đưa ra các khái niệm cơ bản về các loại tài sản: tài sản hữu hình, tài sản vô hình và đưa ra các ví dụ thực tế minh họa cho các loại tài sản trên\n",
        "\n",
        "     Tài sản hữu hình: bao gồm nhà xưởng, máy móc, nguồn vốn và cơ sở hạ tầng\n",
        "\n",
        "     Tài sản vô hình: bao gồm nguồn nhân lực, bí quyết kỹ thuật, ý tưởng, nhãn hiệu, kiểu dáng và những kết quả vô hình khác có được từ khả năng sáng tạo và đổi mới\n",
        "\n",
        "2. Những tài sản trí tuệ phát sinh trong trường đại học\n",
        "\n",
        "     Đưa ra một vài trường hợp về quyền sở hữu trí tuệ trong trường học, ví dụ như: vấn đề về quyền sở hữu trí tuệ trong khóa luận tốt nghiệp, các giáo trình sử dụng trong việc dạy học, một vài trường hợp về vi phạm về quyền sở hữu trí tuệ (ví dụ như: sử dụng các giáo trình photo khi chưa được tác giả cho phép,…),…\n",
        "\n",
        "3. Giới thiệu các loại tài sản trí tuệ\n",
        "\n",
        "     - Quyền tác giả - quyền liên quan :\n",
        "\n",
        "\t+ Quyền nhân thân\n",
        "\n",
        "\t+ Quyền tài sản\n",
        "\n",
        "     - Sáng chế\n",
        "\n",
        "     - Kiểu dáng công nghiệp\n",
        "\n",
        "     - Nhãn hiệu (logo)\n",
        "\n",
        "     - Thiết kế bố trí mạch tích hợp bán dẫn (CHIP,IC)\n",
        "\n",
        "II. Giải đáp các thắc mắc của sinh viên về quyền sở hữu trí tuệ cũng như các câu hỏi liên quan (Q & A)\n",
        "\n",
        "     Một số câu hỏi của nhóm được giải đáp trong seminar\n",
        "\n",
        "     1. (What) Quyền sở hữu trí tuệ là gì?\n",
        "\n",
        "\tQuyền sở hữu trí tuệ (quyền tác giả) là quyền của tác giả đối với sản phẩm của mình. Quyền tác giả bao gồm: quyền nhân thân (đặt tên cho tác phẩm, đứng tên, công bố,...; quyền tài sản (sao chép, phân phối tác phẩm, biểu diễn tác phẩm).\n",
        "\n",
        "     2. (Where) Cơ quan nào có quyền quản lý về sở hữu trí tuệ?\n",
        "\n",
        "\tQuyền sở hữu trí tuệ được ký tại các cơ quan có thẩm quyền bao gồm: Cục bản quyền tác giả, Cục sở hữu trí tuệ và Cục trồng trọt.\n",
        "\n",
        "     3. (Who) Quyền sở hữu trí tuệ được áp dụng cho ai?\n",
        "\n",
        "\tQuyền sở hữu trí tuệ được áp dụng cho tất cả những người đã đăng ký quyền sở hữu trí tuệ và được bảo vệ bởi quyền tác giả.\n",
        "\n",
        "     4. (Why) Tại sao phải có quyền sở hữu trí tuệ? \n",
        "\n",
        "\tQuyền sở hữu trí tuệ dùng để ghi nhận quyền sở hữu tài sản trí tuệ, bảo vệ quyền lợi của tác giả đối với tài sản trí tuệ.\n",
        "\n",
        "     5. (When) Khi nào một cá nhân, tổ chức có thể đăng ký quyền sở hữu trí tuệ? Thời hạn bảo hộ của tác phẩm sở hữu trí tuệ là bao lâu?\n",
        "\n",
        "\tĐiều kiện để một cá nhân, tổ chức có thể đăng ký quyền sở hữu trí tuệ:\n",
        "\n",
        "\t- Đối với sáng chế và kiểu dáng công nghiệp:\n",
        "\n",
        "\t  + Tính mới\n",
        "\n",
        "\t  + Trình độ sáng tạo\n",
        "\n",
        "\t  + Khả năng áp dụng công nghiệp\n",
        "\n",
        "\t- Đối với nhãn hiệu:\n",
        "\n",
        "\t  + Là dấu hiệu nhìn thấy được dưới dạng chữ cái, từ ngữ, hình vẽ, kể cả hình ba chiều hoặc sự kết hợp các yếu tố đó, được thể hiện bằng một hoặc nhiều màu sắc.\n",
        "\n",
        "\t  + Có khả năng phân biệt hàng hóa, dịch vụ của chủ sở hữu nhãn hiệu với hàng hóa, dịch vụ của chủ thể khác.\n",
        "\n",
        "        - Thời gian bảo hộ của quyền sở hữu trí tuệ là:\n",
        "\n",
        "\t  + Quyền nhân thân: vô thời hạn, trừ quyền công bố tác phẩm.\n",
        "\n",
        "\t  + Quyền tài sản: suốt cuộc đời tác giả và 50 năm sau khi mất; 75 năm đối với tác phẩm điện ảnh, nhiếp ảnh, mỹ thuật ứng dụng, tác phẩm khuyết danh.\n",
        "\n",
        "     6. (How)  Pháp luật bảo hộ quyền sở hữu trí tuệ như thế nào? \n",
        "\n",
        "\tPháp luật bảo hộ quyền sở hữu trí tuệ bằng cách đưa ra các văn bản pháp luật, cụ thể ở đây là Luật sở hữu trí tuệ, bộ luật dân sự 2015,... các quy định, các chế tài xử phạt đối với cá nhân, tổ chức vi phạm quyền sở hữu trí tuệ, thông qua 3 cơ quan quản lý nhà nước về sở hữu trí tuệ (cục bản quyền tác giả, cục sở hữu trí tuệ, cục trồng trọt).\n"
      ]
    }
  ]
}