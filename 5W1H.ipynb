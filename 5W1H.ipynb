{
  "nbformat": 4,
  "nbformat_minor": 0,
  "metadata": {
    "colab": {
      "name": "5W1H.ipynb",
      "provenance": [],
      "authorship_tag": "ABX9TyNVMj+Mkfa+uZf8wXhqOgA9",
      "include_colab_link": true
    },
    "kernelspec": {
      "name": "python3",
      "display_name": "Python 3"
    }
  },
  "cells": [
    {
      "cell_type": "markdown",
      "metadata": {
        "id": "view-in-github",
        "colab_type": "text"
      },
      "source": [
        "<a href=\"https://colab.research.google.com/github/Long-1234kfgkl/CS519.L11/blob/main/5W1H.ipynb\" target=\"_parent\"><img src=\"https://colab.research.google.com/assets/colab-badge.svg\" alt=\"Open In Colab\"/></a>"
      ]
    },
    {
      "cell_type": "markdown",
      "metadata": {
        "id": "KrmHX_-T19yc"
      },
      "source": [
        "**Nhóm N015:**\n",
        "\n",
        "-Lỡ Đình Phương 18521274\n",
        "\n",
        "-Đoàn Xuân Minh 18521093\n",
        "\n",
        "-Trịnh Hưng Long 18521060\n"
      ]
    },
    {
      "cell_type": "markdown",
      "metadata": {
        "id": "FvnGe-Fs2Wy4"
      },
      "source": [
        "**ASKING QUESTIONS - ĐẶT CÂU HỎI 5W1H**\n",
        "\n",
        "- 5W1H là gì?\n",
        "- 5W1H ứng dụng trong các tình huống nào?\n",
        "- Tại sao cần học 5W1H?\n",
        "- Nhóm vận dụng 5W1H cho buổi seminar SHTT thế nào?\n",
        "- Trong 5W1H, các bạn thường đặt câu hỏi dạng nào nhất, và câu hỏi dạng nào là quan trọng nhất?"
      ]
    },
    {
      "cell_type": "markdown",
      "metadata": {
        "id": "_1Y9NRTX2D0u"
      },
      "source": [
        "1. 5W1H là gì?\n",
        "\n",
        "5W1H là viết tắt của 5 từ khóa bắt đầu bằng W (Who, What, When, Where, Why) và 1 từ khóa bắt đầu bằng H (How). Tương ứng với 6 loại câu hỏi cần phải đặt ra trong quá trình tìm hiểu, nghiên cứu và giải quyết vấn đề \n",
        "- Who: đưa ra câu hỏi ai thực hiện nghiên cứu này, ai sẽ được lợi và ai ủng hộ cho nó? \n",
        "-What: Những giải pháp nào được đưa ra để giải quyết vấn đề, kết quả là gì? \n",
        "-Where: đề tài nghiên cứu này được thực hiện ở đâu, tổ chức nào? \n",
        "-When: Khi thực hiện, thời gian bắt đầu và kết thúc là khi nào? \n",
        "-Why: Giải thích lí do tại sao cần phải thực hiện đề tài này?\n",
        "-How: Vấn đề nên được giải quyết như thế nào và chi phí là bao nhiêu?\n",
        "2. 5W1H áp dụng trong các tình huống nào?\n",
        "\n",
        "5W1H được áp dụng trong nhiều lĩnh vực của đời sống (học tập, nghiên cứu, kinh tế, …), lấy ví dụ việc áp dụng 5W1H trong việc lựa chọn trường đại học để xét tuyển:\n",
        "- Who: Có quen biết ai ở trường đó không? \n",
        "-What: trường tên gì?, có những ngành nào?, học về cái gì?, ra trường có thể làm được những gì?,... --Where: Trường đó ở đâu, vị trí nộp hồ sơ tuyển sinh ở đâu trong trường?\n",
        "-When: Khi nào nộp hồ sơ nhập học, khi nào đi thực tập, khi nào ra trường? \n",
        "-Why: Tại sao ta thích học trường đó, tại sao chọn trường đó, tại sao chọn ngành đó?\n",
        "-How: Làm thế nào để học tập ở trường đó cho tốt?\n",
        "3. Tại sao cần học 5W1H?\n",
        "\n",
        "Để phát triển tư duy, tạo thêm nhiều ý tưởng mới, xem xét nhiều khía cạnh khác của vấn đề, đưa ra hướng phát triển ý tưởng, tăng sự tương tác giữa người vs người\n",
        "4. Nhóm vận dụng 5W1H cho buổi seminar như thế nào?\n",
        "\n",
        "Nhóm sẽ vận dụng 5W1H cho buổi seminar Sở hữu trí tuệ bằng cách đặt ra các câu hỏi sau: \n",
        "- Who: Quyền sở hữu trí tuệ được áp dụng cho ai?, những đối tượng nào sẽ bị xử lý khi vi phạm quyền sở hữu trí tuệ? \n",
        "-What: Sở hữu trí tuệ là gì?, quyền sở hữu trí tuệ là gì? Những giới hạn nào được đặt ra cho quyền sở hữu trí tuệ? \n",
        "-Where: Việc đăng ký sở hữu trí tuệ được thực hiện ở đâu, cơ quan nào? \n",
        "-When: Khi nào thì một cá nhân, tổ chức có thể đăng ký sở hữu trí tuệ? Thời hạn bảo hộ đối với các sản phẩm sở hữu trí tuệ là bao lâu? \n",
        "-Why: Tại sao phải có quyền sở hữu trí tuệ? \n",
        "-How: Quyền sở hữu trí tuệ được pháp luật nước ta quy định như thế nào?\n",
        "5. Trong 5W1H, các bạn thường đặt câu hỏi dạng nào nhất, và câu hỏi dạng nào là quan trọng nhất?\n",
        "\n",
        "- Câu hỏi dưới dạng What, Why thường được đặt nhất vì khi nhìn nhận 1 vấn đề nào đó, đầu tiên chúng ta cần phải xác định vấn đề đó là gì?, tại sao phải giải quyết vấn đề đó?.\n",
        "- Dạng câu hỏi quan trọng nhất là What, việc đầu tiên cũng là bước quan trọng nhất là xác định chính xác vấn đề ấy là gì rồi tiếp đến các các vấn đề kế tiếp."
      ]
    }
  ]
}